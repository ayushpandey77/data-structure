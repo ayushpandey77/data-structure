{
  "nbformat": 4,
  "nbformat_minor": 0,
  "metadata": {
    "colab": {
      "provenance": []
    },
    "kernelspec": {
      "name": "python3",
      "display_name": "Python 3"
    },
    "language_info": {
      "name": "python"
    }
  },
  "cells": [
    {
      "cell_type": "markdown",
      "source": [
        "#data structure\n"
      ],
      "metadata": {
        "id": "PefmbqLnsVwk"
      }
    },
    {
      "cell_type": "markdown",
      "source": [
        "#data structure\n"
      ],
      "metadata": {
        "id": "sCF1sDa6nLh9"
      }
    },
    {
      "cell_type": "markdown",
      "source": [
        "1=What are data structures, and why are they important\n",
        "-Data structures are ways of organizing, storing, and managing data in a computer so that it can be used efficiently.\n",
        "Efficient Data Management =They allow efficient storage, retrieval, and manipulation of data.\n",
        "Optimized Performance = Using the right data structure improves the performance of algorithms, reducing time and space complexity.\n",
        "Better Organization = They help organize and structure data logically, making it easier to access and modify.\n",
        "Facilitates Complex Operations = Some problems, like searching, sorting, and graph traversal, are easier to solve with appropriate data structures.\n",
        "Essential for Software Development = Used in databases, operating systems, networking, artificial intelligence, and many other fields.\n",
        "\n"
      ],
      "metadata": {
        "id": "v9PEZwXyseGY"
      }
    },
    {
      "cell_type": "markdown",
      "source": [
        " 2=Explain the difference between mutable and immutable data types with examples\n",
        " -Mutable: Can be changed after creation (modifications happen in place).\n",
        "Examples: list, dict, set\n",
        "Immutable: Cannot be changed after creation (modifications create a new object).\n",
        "Examples: tuple, str, int, float, boolean.\n",
        "\n",
        "3= What are the main differences between lists and tuples in Python?\n",
        "-In Python, lists and tuples are both used to store collections of items, but they have fundamental differences. The primary distinction is mutability—lists are mutable, meaning their elements can be modified, whereas tuples are immutable, meaning their values cannot be changed after creation. Lists are defined using square brackets ([]), while tuples use parentheses (()). Due to their immutability, tuples are generally faster and consume less memory compared to lists. Additionally, lists offer more built-in methods, such as append(), remove(), and sort(), whereas tuples have limited methods like count() and index(). Lists are ideal when you need a dynamic collection that can be modified, while tuples are preferred for fixed data that should remain constant, such as dictionary keys or function arguments. Because of their immutability, tuples also allow for faster iteration compared to lists.\n",
        "\n",
        "4= Describe how dictionaries store data\n",
        "-Stores key-value pairs using a hash table.\n",
        "Keys are hashed for fast lookups (O(1) time complexity).\n",
        "Keys must be immutable (e.g., str, int, tuple).\n",
        "Handles collisions using open addressing.\n",
        "Maintains insertion order\n",
        "\n",
        "5=Why might you use a set instead of a list in Python\n",
        "In Python, a set is often preferred over a list when you need to store unique elements and perform fast membership checks. Unlike lists, sets do not allow duplicate values, which makes them useful for filtering out repeated elements automatically. Additionally, sets use a hashing mechanism, enabling average O(1) time complexity for lookups, whereas lists require O(n) time complexity for the same operation. This makes sets significantly faster when checking if an element exists in a large collection.\n",
        "\n",
        "6= What is a string in Python, and how is it different from a list\n",
        "-In Python, a string is a sequence of characters enclosed in quotes (\"\", ''). It is immutable, meaning its contents cannot be changed after creation. A list, on the other hand, is a collection of elements (which can be of different data types) and is mutable, allowing modifications. For example, changing a character in a string requires creating a new string, while a list element can be modified directly. Strings store only characters, whereas lists can hold various data types like numbers, strings, or other lists.\n",
        "\n",
        "7=How do tuples ensure data integrity in Python\n",
        "-Tuples ensure data integrity in Python because they are immutable, meaning their contents cannot be changed after creation. This prevents accidental modification, ensuring that the stored data remains consistent and secure. Since tuples cannot be altered, they are ideal for storing fixed sets of values, such as database records or configuration settings.\n",
        "\n",
        "8=P What is a hash table, and how does it relate to dictionaries in Python\n",
        "-A hash table is a data structure that stores key-value pairs, allowing for fast data retrieval using a hash function. The hash function converts keys into unique indices (or \"hashes\") that map to values, enabling efficient lookups, insertions, and deletions.\n",
        "\n",
        "9=Can lists contain different data types in Python\n",
        "-Yes, lists in Python can contain different data types. A list is a flexible, heterogeneous data structure that can store integers, floats, strings, other lists, dictionaries, tuples, and even functions or objects.\n",
        "\n",
        "10=P Explain why strings are immutable in Python\n",
        "-Strings are immutable in Python because they are stored in memory as sequences of characters that cannot be modified after creation. This design choice ensures security, efficiency, and consistency in programs.\n",
        "\n",
        "Memory Optimization: Since strings are widely used, immutability allows Python to store identical strings in a single memory location (interning), reducing memory usage.\n",
        "Hashability: Immutable objects like strings can be used as dictionary keys and set elements, as their values remain constant.\n",
        "Thread Safety: Since strings cannot change, they prevent unintended modifications in multi-threaded environments.\n",
        "\n",
        "11=P What advantages do dictionaries offer over lists for certain tasks\n",
        "-Dictionaries offer several advantages over lists for certain tasks, especially when fast lookups, key-based access, and flexible data storage are needed.\n",
        "\n",
        "Fast Lookups (O(1)): Dictionaries use hash tables, making key-based access much faster than searching for an item in a list (O(n)).\n",
        "Key-Value Pair Storage: Unlike lists, which use numeric indices, dictionaries store data as key-value pairs, making retrieval more intuitive.\n",
        "Efficient Updates: Adding, modifying, or deleting elements in a dictionary is more efficient than in a list.\n",
        "No Need for Ordered Indexing: While lists rely on position-based indexing, dictionaries allow access by unique keys, making them ideal for mapping relationships (e.g., storing user profiles).\n",
        "\n",
        "12=Describe a scenario where using a tuple would be preferable over a list\n",
        "A tuple is preferable over a list when storing fixed data that should not change, such as GPS coordinates (latitude, longitude). Since tuples are immutable, they prevent accidental modification, ensuring data integrity. They are also faster and hashable, making them useful as dictionary keys. For example, storing a location as location = (40.7128, -74.0060) ensures it remains constant, unlike a list, which can be altered. Tuples are ideal for read-only structured data like database records, RGB colors, or configuration settings.\n",
        "\n",
        "13=P How do sets handle duplicate values in Python\n",
        "-In Python, sets automatically remove duplicate values, ensuring that each element is unique. When you add duplicate elements to a set, Python ignores them without raising an error.\n",
        "\n",
        "14=How does the “in” keyword work differently for lists and dictionaries\n",
        "-For lists, the in keyword checks if an element exists in the list.\n",
        "For dictionaries, the in keyword checks if a key exists in the dictionary.\n",
        "In lists: checks for element presence.\n",
        "In dictionaries: checks for key presence.\n",
        "\n",
        "15=Can you modify the elements of a tuple? Explain why or why not\n",
        "-No, you cannot modify the elements of a tuple because tuples are immutable in Python. Once a tuple is created, its content cannot be changed, added, or removed. This immutability ensures that the data remains constant and is useful for guaranteeing data integrity.\n",
        "\n",
        "16= What is a nested dictionary, and give an example of its use case\n",
        "- A nested dictionary is a dictionary where values are themselves dictionaries. This structure is useful for storing hierarchical or grouped data in an organized way.\n",
        "\n",
        "17=P Describe the time complexity of accessing elements in a dictionary\n",
        "-Accessing elements in a dictionary in Python has an average time complexity of O(1) (constant time) because dictionaries use a hash table to map keys to values. When retrieving a value using dict[key], Python computes the hash of the key and directly accesses the corresponding memory location, making it very fast.\n",
        "\n",
        "18=P In what situations are lists preferred over dictionaries\n",
        "-Lists are preferred over dictionaries when you need an ordered collection of elements and when each item does not require a unique key for access. For instance, if you're processing a sequence of numbers or names where the order is significant and duplicate values are allowed, lists offer straightforward indexing, slicing, and iteration, making them ideal for tasks that require sequential operations rather than key-based lookups.\n",
        "\n",
        "19= Why are dictionaries considered unordered, and how does that affect data retrieval\n",
        "-Dictionaries in Python are considered unordered because, before Python 3.7, they did not maintain the order in which key-value pairs were inserted. However, from Python 3.7 onward, dictionaries preserve insertion order, but they are still not considered fully \"ordered\" in the same way as lists, since their primary function is fast key-based lookups rather than sequential storage.\n",
        "\n",
        "20=P Explain the difference between a list and a dictionary in terms of data retrieval.\n",
        "-In a list, data is retrieved using an index (e.g., list[2]), and the retrieval time is O(1) for direct access by position.\n",
        "\n",
        "In a dictionary, data is retrieved using a key (e.g., dict[\"key\"]), and the retrieval time is also O(1) on average, as it uses hashing to quickly find the value.\n",
        "\n",
        "The key difference is that lists use numeric indices, while dictionaries use unique keys.\n",
        "\n",
        "\n",
        "\n",
        "\n",
        "\n",
        "\n"
      ],
      "metadata": {
        "id": "bJtcQyvdsd4A"
      }
    },
    {
      "cell_type": "markdown",
      "source": [
        "#practical question\n"
      ],
      "metadata": {
        "id": "htOFYXkDpsN7"
      }
    },
    {
      "cell_type": "markdown",
      "source": [
        "1= Write a code to create a string with your name and print itP"
      ],
      "metadata": {
        "id": "ofZP_wl4pzVz"
      }
    },
    {
      "cell_type": "code",
      "source": [
        "name=\"ayush pandey\"\n",
        "print(name)"
      ],
      "metadata": {
        "colab": {
          "base_uri": "https://localhost:8080/"
        },
        "id": "GQ9ICiUlpxqF",
        "outputId": "05c743d2-e39b-45f2-e90a-7b8921595b1b"
      },
      "execution_count": 1,
      "outputs": [
        {
          "output_type": "stream",
          "name": "stdout",
          "text": [
            "ayush pandey\n"
          ]
        }
      ]
    },
    {
      "cell_type": "markdown",
      "source": [
        "2= Write a code to find the length of the string \"Hello World\""
      ],
      "metadata": {
        "id": "o0BEGD20qQSG"
      }
    },
    {
      "cell_type": "code",
      "source": [
        "a=\"HELLO WORLD\"\n",
        "len(a)"
      ],
      "metadata": {
        "colab": {
          "base_uri": "https://localhost:8080/"
        },
        "id": "CRVVeCkaqndj",
        "outputId": "6ff07226-5038-4953-92aa-95d9fbb475e3"
      },
      "execution_count": 2,
      "outputs": [
        {
          "output_type": "execute_result",
          "data": {
            "text/plain": [
              "11"
            ]
          },
          "metadata": {},
          "execution_count": 2
        }
      ]
    },
    {
      "cell_type": "markdown",
      "source": [
        "3=Write a code to slice the first 3 characters from the string \"Python Programming\""
      ],
      "metadata": {
        "id": "hdrQgc7ksdpe"
      }
    },
    {
      "cell_type": "code",
      "source": [
        "a=\"python prgramming\"\n",
        "sliced_string=a[:3]\n",
        "print(sliced_string)"
      ],
      "metadata": {
        "colab": {
          "base_uri": "https://localhost:8080/"
        },
        "id": "tEnSWCicq5cl",
        "outputId": "ea960e95-e2dc-46b9-f9a2-0793861a99ce"
      },
      "execution_count": 3,
      "outputs": [
        {
          "output_type": "stream",
          "name": "stdout",
          "text": [
            "pyt\n"
          ]
        }
      ]
    },
    {
      "cell_type": "markdown",
      "source": [
        "4=Write a code to convert the string \"hello\" to uppercase"
      ],
      "metadata": {
        "id": "R09YADIirV4Q"
      }
    },
    {
      "cell_type": "code",
      "source": [
        "a=\"hello\"\n",
        "uppercase_string=a.upper()\n",
        "print(uppercase_string)\n"
      ],
      "metadata": {
        "colab": {
          "base_uri": "https://localhost:8080/"
        },
        "id": "zoLCeVKXrVYX",
        "outputId": "5d596134-cc60-4fcf-809d-479c96028345"
      },
      "execution_count": 6,
      "outputs": [
        {
          "output_type": "stream",
          "name": "stdout",
          "text": [
            "HELLO\n"
          ]
        }
      ]
    },
    {
      "cell_type": "markdown",
      "source": [
        "5= Write a code to replace the word \"apple\" with \"orange\" in the string \"I like apple\""
      ],
      "metadata": {
        "id": "Oun3qZCDsHT0"
      }
    },
    {
      "cell_type": "code",
      "source": [
        "string=\"i like apple\"\n",
        "new_sting=string.replace(\"apple\",\"orange\")\n",
        "print(new_sting)"
      ],
      "metadata": {
        "colab": {
          "base_uri": "https://localhost:8080/"
        },
        "id": "yXOC_ccKsMIm",
        "outputId": "462a615b-e0ce-4912-e8e3-41e060765568"
      },
      "execution_count": 7,
      "outputs": [
        {
          "output_type": "stream",
          "name": "stdout",
          "text": [
            "i like orange\n"
          ]
        }
      ]
    },
    {
      "cell_type": "markdown",
      "source": [
        "6= Write a code to create a list with numbers 1 to 5 and print it\n",
        "\n"
      ],
      "metadata": {
        "id": "Wh0HTVfnt72M"
      }
    },
    {
      "cell_type": "code",
      "source": [
        "l=[1,2,3,4,5]\n",
        "print(l)"
      ],
      "metadata": {
        "colab": {
          "base_uri": "https://localhost:8080/"
        },
        "id": "ShNVWLv_uEmC",
        "outputId": "af8bcd6c-d08d-4351-8c02-8e4e311a4dd9"
      },
      "execution_count": 8,
      "outputs": [
        {
          "output_type": "stream",
          "name": "stdout",
          "text": [
            "[1, 2, 3, 4, 5]\n"
          ]
        }
      ]
    },
    {
      "cell_type": "markdown",
      "source": [
        "7= Write a code to append the number 10 to the list [1, 2, 3, 4]"
      ],
      "metadata": {
        "id": "9XDy7j7ZuO6m"
      }
    },
    {
      "cell_type": "code",
      "source": [
        "l=[1,2,3,4]\n",
        "l.append(10)\n",
        "print(l)"
      ],
      "metadata": {
        "colab": {
          "base_uri": "https://localhost:8080/"
        },
        "id": "fk_bqNdNuTYw",
        "outputId": "bbf0365c-1d00-46fd-bf4f-b08e1fd46f19"
      },
      "execution_count": 10,
      "outputs": [
        {
          "output_type": "stream",
          "name": "stdout",
          "text": [
            "[1, 2, 3, 4, 10]\n"
          ]
        }
      ]
    },
    {
      "cell_type": "markdown",
      "source": [
        "8=Write a code to remove the number 3 from the list [1, 2, 3, 4, 5]"
      ],
      "metadata": {
        "id": "zfqWA1JRukNE"
      }
    },
    {
      "cell_type": "code",
      "source": [
        "l=[1,2,3,4,5]\n",
        "l.remove(3)\n",
        "print(l)"
      ],
      "metadata": {
        "colab": {
          "base_uri": "https://localhost:8080/"
        },
        "id": "uVwqWFX8uo4u",
        "outputId": "a8236f4d-d6c2-43e0-9d15-5cc0de16e49d"
      },
      "execution_count": 11,
      "outputs": [
        {
          "output_type": "stream",
          "name": "stdout",
          "text": [
            "[1, 2, 4, 5]\n"
          ]
        }
      ]
    },
    {
      "cell_type": "markdown",
      "source": [
        "9=Write a code to access the second element in the list ['a', 'b', 'c', 'd']"
      ],
      "metadata": {
        "id": "xY_GoiCru1jC"
      }
    },
    {
      "cell_type": "code",
      "source": [
        "l=['a','b','c','d']\n",
        "second_element=l[1]\n",
        "print(second_element)"
      ],
      "metadata": {
        "colab": {
          "base_uri": "https://localhost:8080/"
        },
        "id": "AhsIXSSUvF3Y",
        "outputId": "85cc6ec2-1efc-42ad-eb8b-6d562dd41607"
      },
      "execution_count": 17,
      "outputs": [
        {
          "output_type": "stream",
          "name": "stdout",
          "text": [
            "b\n"
          ]
        }
      ]
    },
    {
      "cell_type": "markdown",
      "source": [
        "10= Write a code to reverse the list [10, 20, 30, 40, 50]"
      ],
      "metadata": {
        "id": "bbBYs1-_wZTF"
      }
    },
    {
      "cell_type": "code",
      "source": [
        "a=[10,20,30,40,50]\n",
        "a.reverse()\n",
        "print(a)"
      ],
      "metadata": {
        "colab": {
          "base_uri": "https://localhost:8080/"
        },
        "id": "OxO-1Z8Nwe1b",
        "outputId": "b75b5139-d1c4-46dd-c6a5-21afd39212aa"
      },
      "execution_count": 18,
      "outputs": [
        {
          "output_type": "stream",
          "name": "stdout",
          "text": [
            "[50, 40, 30, 20, 10]\n"
          ]
        }
      ]
    },
    {
      "cell_type": "markdown",
      "source": [
        " 11=Write a code to create a tuple with the elements 100, 200, 300 and print it"
      ],
      "metadata": {
        "id": "vY0FXmMEwztl"
      }
    },
    {
      "cell_type": "code",
      "source": [
        "t=(100,200,300)\n",
        "print(t)"
      ],
      "metadata": {
        "colab": {
          "base_uri": "https://localhost:8080/"
        },
        "id": "TB71nqFCw8Ia",
        "outputId": "dc78990f-fd7d-4f42-f9f7-6adf7ad345a3"
      },
      "execution_count": 20,
      "outputs": [
        {
          "output_type": "stream",
          "name": "stdout",
          "text": [
            "(100, 200, 300)\n"
          ]
        }
      ]
    },
    {
      "cell_type": "markdown",
      "source": [
        "12= Write a code to access the second-to-last element of the tuple ('red', 'green', 'blue', 'yellow')."
      ],
      "metadata": {
        "id": "NcGNglz4xLAY"
      }
    },
    {
      "cell_type": "code",
      "source": [
        "t=('red','green','blue','yellow')\n",
        "last_second=t[-2]\n",
        "print(last_second)"
      ],
      "metadata": {
        "colab": {
          "base_uri": "https://localhost:8080/"
        },
        "id": "t7U_DlvbxQgA",
        "outputId": "b921c0db-6adb-479b-849e-82ab34a5a7b7"
      },
      "execution_count": 23,
      "outputs": [
        {
          "output_type": "stream",
          "name": "stdout",
          "text": [
            "blue\n"
          ]
        }
      ]
    },
    {
      "cell_type": "markdown",
      "source": [
        "13= Write a code to find the minimum number in the tuple (10, 20, 5, 15)"
      ],
      "metadata": {
        "id": "1j5QzZ_6x2Jr"
      }
    },
    {
      "cell_type": "code",
      "source": [
        "t=(10,20,5,15)\n",
        "min_num=min(t)\n",
        "print(min_num)"
      ],
      "metadata": {
        "colab": {
          "base_uri": "https://localhost:8080/"
        },
        "id": "iGRbmrvMx6OQ",
        "outputId": "287f4da9-5919-4e18-d8ba-fa15ecd57a3e"
      },
      "execution_count": 24,
      "outputs": [
        {
          "output_type": "stream",
          "name": "stdout",
          "text": [
            "5\n"
          ]
        }
      ]
    },
    {
      "cell_type": "markdown",
      "source": [
        "14= Write a code to find the index of the element \"cat\" in the tuple ('dog', 'cat', 'rabbit')**bold text**"
      ],
      "metadata": {
        "id": "OEZNhaGSyTCL"
      }
    },
    {
      "cell_type": "code",
      "source": [
        "tuple=('dog','cat','rabbit')\n",
        "index=tuple.index('cat')\n",
        "print(index)"
      ],
      "metadata": {
        "colab": {
          "base_uri": "https://localhost:8080/"
        },
        "id": "Msx4I61qyjS9",
        "outputId": "24ad080d-5798-49db-e270-534acda37a66"
      },
      "execution_count": 26,
      "outputs": [
        {
          "output_type": "stream",
          "name": "stdout",
          "text": [
            "1\n"
          ]
        }
      ]
    },
    {
      "cell_type": "markdown",
      "source": [
        "15= Write a code to create a tuple containing three different fruits and check if \"kiwi\" is in it."
      ],
      "metadata": {
        "id": "J7yC42ZKzAka"
      }
    },
    {
      "cell_type": "code",
      "source": [
        "tuple=('apple','orange','kiwi')\n",
        "if 'kiwi' in tuple:\n",
        "  print(\"kiwi is present\")\n",
        "else:\n",
        "  print(\"kiwi is not present\")"
      ],
      "metadata": {
        "colab": {
          "base_uri": "https://localhost:8080/"
        },
        "id": "tpVV4_56y_t9",
        "outputId": "eb405928-c986-407c-9dbb-b17d8e8f035d"
      },
      "execution_count": 27,
      "outputs": [
        {
          "output_type": "stream",
          "name": "stdout",
          "text": [
            "kiwi is present\n"
          ]
        }
      ]
    },
    {
      "cell_type": "markdown",
      "source": [
        "16= Write a code to create a set with the elements 'a', 'b', 'c' and print it"
      ],
      "metadata": {
        "id": "MbEY8Lb9zpIO"
      }
    },
    {
      "cell_type": "code",
      "source": [
        "s={'a','b','c'}\n",
        "print(s)\n",
        "type(s)"
      ],
      "metadata": {
        "colab": {
          "base_uri": "https://localhost:8080/"
        },
        "id": "uFBCIMUHzvmb",
        "outputId": "2869fed8-52e9-49cd-ed5c-02effd997bc7"
      },
      "execution_count": 29,
      "outputs": [
        {
          "output_type": "stream",
          "name": "stdout",
          "text": [
            "{'a', 'c', 'b'}\n"
          ]
        },
        {
          "output_type": "execute_result",
          "data": {
            "text/plain": [
              "set"
            ]
          },
          "metadata": {},
          "execution_count": 29
        }
      ]
    },
    {
      "cell_type": "markdown",
      "source": [
        "17=Write a code to clear all elements from the set {1, 2, 3, 4, 5}."
      ],
      "metadata": {
        "id": "VmjX8v0Nz5JN"
      }
    },
    {
      "cell_type": "code",
      "source": [
        "s={1,2,3,4,5}\n",
        "clear_set=s.clear()\n",
        "print(clear_set)"
      ],
      "metadata": {
        "colab": {
          "base_uri": "https://localhost:8080/"
        },
        "id": "SLTHRlkT0VqX",
        "outputId": "c1258e9e-eaa6-467b-b6f2-48f0c015afe3"
      },
      "execution_count": 30,
      "outputs": [
        {
          "output_type": "stream",
          "name": "stdout",
          "text": [
            "None\n"
          ]
        }
      ]
    },
    {
      "cell_type": "markdown",
      "source": [
        "18= Write a code to remove the element 4 from the set {1, 2, 3, 4}."
      ],
      "metadata": {
        "id": "fsagHprs0eRT"
      }
    },
    {
      "cell_type": "code",
      "source": [
        "a={1,2,3,4}\n",
        "a.remove(4)\n",
        "print(a)"
      ],
      "metadata": {
        "colab": {
          "base_uri": "https://localhost:8080/"
        },
        "id": "qd8dNmle0jjr",
        "outputId": "ce627b0e-fbb1-43af-93e7-f670f619afa4"
      },
      "execution_count": 31,
      "outputs": [
        {
          "output_type": "stream",
          "name": "stdout",
          "text": [
            "{1, 2, 3}\n"
          ]
        }
      ]
    },
    {
      "cell_type": "markdown",
      "source": [],
      "metadata": {
        "id": "lLl0PkBQsTSG"
      }
    },
    {
      "cell_type": "markdown",
      "source": [
        "19= Write a code to find the union of two sets {1, 2, 3} and {3, 4, 5}."
      ],
      "metadata": {
        "id": "LS4njv3p0r2m"
      }
    },
    {
      "cell_type": "code",
      "source": [
        "s1={1,2,3}\n",
        "s2={3,4,5}\n",
        "union=s1|s2\n",
        "print(union)"
      ],
      "metadata": {
        "colab": {
          "base_uri": "https://localhost:8080/"
        },
        "id": "VHiWN8_U027i",
        "outputId": "d1ac2636-1580-480d-beec-703abbe4da45"
      },
      "execution_count": 32,
      "outputs": [
        {
          "output_type": "stream",
          "name": "stdout",
          "text": [
            "{1, 2, 3, 4, 5}\n"
          ]
        }
      ]
    },
    {
      "cell_type": "markdown",
      "source": [
        "20= Write a code to find the intersection of two sets {1, 2, 3} and {2, 3, 4}."
      ],
      "metadata": {
        "id": "-M9VPp8S1Jqj"
      }
    },
    {
      "cell_type": "code",
      "source": [
        "s1={1,2,3}\n",
        "s2={2,3,4}\n",
        "intersection=s1 & s2\n",
        "print(intersection)"
      ],
      "metadata": {
        "colab": {
          "base_uri": "https://localhost:8080/"
        },
        "id": "J3sJPkkM1PnQ",
        "outputId": "5f9f7569-852b-4506-a5c5-c4eca248122c"
      },
      "execution_count": 33,
      "outputs": [
        {
          "output_type": "stream",
          "name": "stdout",
          "text": [
            "{2, 3}\n"
          ]
        }
      ]
    },
    {
      "cell_type": "markdown",
      "source": [
        "21=Write a code to create a dictionary with the keys \"name\", \"age\", and \"city\", and print it."
      ],
      "metadata": {
        "id": "tpXWiLxG1hW6"
      }
    },
    {
      "cell_type": "code",
      "source": [
        "d={\"name\":\"ayush\",\"email\":\"@gmail.com\",\"contact no\":\"123\"}\n",
        "print(d)"
      ],
      "metadata": {
        "colab": {
          "base_uri": "https://localhost:8080/"
        },
        "id": "1j3V8DFt2Qr5",
        "outputId": "9b4a41aa-5f78-4051-fc7a-7648bd3ede7b"
      },
      "execution_count": 34,
      "outputs": [
        {
          "output_type": "stream",
          "name": "stdout",
          "text": [
            "{'name': 'ayush', 'email': '@gmail.com', 'contact no': '123'}\n"
          ]
        }
      ]
    },
    {
      "cell_type": "markdown",
      "source": [
        " 22=Write a code to add a new key-value pair \"country\": \"USA\" to the dictionary {'name': 'John', 'age': 25}."
      ],
      "metadata": {
        "id": "qtnbLHWA2WaZ"
      }
    },
    {
      "cell_type": "code",
      "source": [
        "my_dict={\"name\":\"john\",\"age\":25}\n",
        "my_dict[\"country\"]=\"USA\"\n",
        "print(my_dict)"
      ],
      "metadata": {
        "colab": {
          "base_uri": "https://localhost:8080/"
        },
        "id": "CY8oT2_l2axo",
        "outputId": "18e4d776-71e2-4eba-9dfc-15035a45f3de"
      },
      "execution_count": 35,
      "outputs": [
        {
          "output_type": "stream",
          "name": "stdout",
          "text": [
            "{'name': 'john', 'age': 25, 'country': 'USA'}\n"
          ]
        }
      ]
    },
    {
      "cell_type": "markdown",
      "source": [
        "23=Write a code to access the value associated with the key \"name\" in the dictionary {'name': 'Alice', 'age': 30}."
      ],
      "metadata": {
        "id": "Bit8vGuQ3Z39"
      }
    },
    {
      "cell_type": "code",
      "source": [
        "my_dict={'name': 'Alice', 'age': 30}\n",
        "name_value=my_dict['name']\n",
        "print(name_value)\n"
      ],
      "metadata": {
        "colab": {
          "base_uri": "https://localhost:8080/"
        },
        "id": "kakdaOCZ3gVK",
        "outputId": "5a865218-6edd-49ee-de1c-4604b852859e"
      },
      "execution_count": 38,
      "outputs": [
        {
          "output_type": "stream",
          "name": "stdout",
          "text": [
            "Alice\n"
          ]
        }
      ]
    },
    {
      "cell_type": "markdown",
      "source": [
        "24= Write a code to remove the key \"age\" from the dictionary {'name': 'Bob', 'age': 22, 'city': 'New York'}"
      ],
      "metadata": {
        "id": "BrJip1e535un"
      }
    },
    {
      "cell_type": "code",
      "source": [
        "my_dict={'name': 'Bob', 'age': 22, 'city': 'New York'}\n",
        "del my_dict['age']\n",
        "print(my_dict)"
      ],
      "metadata": {
        "colab": {
          "base_uri": "https://localhost:8080/"
        },
        "id": "2dJNlpOA4A-t",
        "outputId": "76904b81-ffac-4d04-f6c1-8239c6befb7f"
      },
      "execution_count": 39,
      "outputs": [
        {
          "output_type": "stream",
          "name": "stdout",
          "text": [
            "{'name': 'Bob', 'city': 'New York'}\n"
          ]
        }
      ]
    },
    {
      "cell_type": "markdown",
      "source": [
        "25=. Write a code to check if the key \"city\" exists in the dictionary {'name': 'Alice', 'city': 'Paris'}"
      ],
      "metadata": {
        "id": "_AxgW9SI4Grv"
      }
    },
    {
      "cell_type": "code",
      "source": [
        "my_dict= {'name': 'Alice', 'city': 'Paris'}\n",
        "key_exists = 'city' in my_dict\n",
        "print(key_exists)"
      ],
      "metadata": {
        "colab": {
          "base_uri": "https://localhost:8080/"
        },
        "id": "hZ19ai6k4VTN",
        "outputId": "90201b56-630a-4c76-8b0b-e1569f5abedf"
      },
      "execution_count": 40,
      "outputs": [
        {
          "output_type": "stream",
          "name": "stdout",
          "text": [
            "True\n"
          ]
        }
      ]
    },
    {
      "cell_type": "markdown",
      "source": [
        "26= Write a code to create a list, a tuple, and a dictionary, and print them all."
      ],
      "metadata": {
        "id": "HNQPTg4c4sxj"
      }
    },
    {
      "cell_type": "code",
      "source": [
        "#creating a list,tuple & dictionary\n",
        "t=('apple','orange','kiwi')\n",
        "l=[1,2,3,4,5]\n",
        "d={\"name\":\"ayush\",\"email\":\"@gmail.com\",\"contact no\":\"123\"}\n",
        "print(t)\n",
        "print(l)\n",
        "print(d)"
      ],
      "metadata": {
        "colab": {
          "base_uri": "https://localhost:8080/"
        },
        "id": "b5RuExXd4weT",
        "outputId": "87d04831-185d-4e7c-fd1d-22a51f89b0de"
      },
      "execution_count": 41,
      "outputs": [
        {
          "output_type": "stream",
          "name": "stdout",
          "text": [
            "('apple', 'orange', 'kiwi')\n",
            "[1, 2, 3, 4, 5]\n",
            "{'name': 'ayush', 'email': '@gmail.com', 'contact no': '123'}\n"
          ]
        }
      ]
    },
    {
      "cell_type": "markdown",
      "source": [
        "27=Write a code to create a list of 5 random numbers between 1 and 100, sort it in ascending order, and print the\n",
        "result."
      ],
      "metadata": {
        "id": "mB1H7shH5MVa"
      }
    },
    {
      "cell_type": "code",
      "source": [
        "l=[15,55,65,45,85,77]\n",
        "l.sort()\n",
        "print(l)\n"
      ],
      "metadata": {
        "colab": {
          "base_uri": "https://localhost:8080/"
        },
        "id": "k7M-9sHw5WTw",
        "outputId": "4537b423-588b-47fd-9d31-0b0c22d5eaba"
      },
      "execution_count": 45,
      "outputs": [
        {
          "output_type": "stream",
          "name": "stdout",
          "text": [
            "[15, 45, 55, 65, 77, 85]\n"
          ]
        }
      ]
    },
    {
      "cell_type": "markdown",
      "source": [
        "28=. Write a code to create a list with strings and print the element at the third index"
      ],
      "metadata": {
        "id": "Fx5jwcMS6Lmo"
      }
    },
    {
      "cell_type": "code",
      "source": [
        "l=[\"ayush\",\"dance\",\"champion\",\"dhoni\"]\n",
        "element_3index=l[3]\n",
        "print(element_3index)"
      ],
      "metadata": {
        "colab": {
          "base_uri": "https://localhost:8080/"
        },
        "id": "-FlE5kYB6aJ5",
        "outputId": "381496f6-d9ac-41dc-ac74-267cb793e1ce"
      },
      "execution_count": 46,
      "outputs": [
        {
          "output_type": "stream",
          "name": "stdout",
          "text": [
            "dhoni\n"
          ]
        }
      ]
    },
    {
      "cell_type": "markdown",
      "source": [
        "29 =Write a code to combine two dictionaries into one and print the result"
      ],
      "metadata": {
        "id": "Ib1sdkoD69G8"
      }
    },
    {
      "cell_type": "code",
      "source": [
        "\n",
        "dict1 = {'name': 'Alice', 'age': 25}\n",
        "dict2 = {'city': 'New York', 'country': 'USA'}\n",
        "\n",
        "# Combine the two dictionaries\n",
        "combined_dict = {**dict1, **dict2}\n",
        "\n",
        "# Print the result\n",
        "print(combined_dict)"
      ],
      "metadata": {
        "colab": {
          "base_uri": "https://localhost:8080/"
        },
        "id": "o0cmQ3GE702g",
        "outputId": "aeccc4b8-fddd-4a2e-deb2-5f7e7d0ee8cb"
      },
      "execution_count": 51,
      "outputs": [
        {
          "output_type": "stream",
          "name": "stdout",
          "text": [
            "{'name': 'Alice', 'age': 25, 'city': 'New York', 'country': 'USA'}\n"
          ]
        }
      ]
    },
    {
      "cell_type": "markdown",
      "source": [
        "30= Write a code to convert a list of strings into a set."
      ],
      "metadata": {
        "id": "JtEtdDsL7_ko"
      }
    },
    {
      "cell_type": "code",
      "source": [
        "my_list = ['apple', 'banana', 'cherry', 'apple']\n",
        "my_set = set(my_list)\n",
        "print(my_set)"
      ],
      "metadata": {
        "colab": {
          "base_uri": "https://localhost:8080/"
        },
        "id": "0U4US3Cj8Ier",
        "outputId": "0401b34d-91a7-4630-b622-e5c8362a4879"
      },
      "execution_count": 52,
      "outputs": [
        {
          "output_type": "stream",
          "name": "stdout",
          "text": [
            "{'apple', 'cherry', 'banana'}\n"
          ]
        }
      ]
    }
  ]
}